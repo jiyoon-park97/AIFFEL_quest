{
  "nbformat": 4,
  "nbformat_minor": 0,
  "metadata": {
    "colab": {
      "provenance": [],
      "machine_shape": "hm",
      "gpuType": "A100"
    },
    "kernelspec": {
      "name": "python3",
      "display_name": "Python 3"
    },
    "language_info": {
      "name": "python"
    },
    "accelerator": "GPU"
  },
  "cells": [
    {
      "cell_type": "code",
      "execution_count": null,
      "metadata": {
        "id": "kS9PJKDo-mh8"
      },
      "outputs": [],
      "source": [
        "# Stable Diffusion 설치\n",
        "!pip install --upgrade -qq git+https://github.com/huggingface/diffusers.git transformers accelerate"
      ]
    },
    {
      "cell_type": "code",
      "source": [
        "import torch\n",
        "from diffusers import StableDiffusionControlNetPipeline\n",
        "from diffusers.utils import load_image"
      ],
      "metadata": {
        "id": "VlGwYtDn_LAL"
      },
      "execution_count": null,
      "outputs": []
    },
    {
      "cell_type": "code",
      "source": [
        "from google.colab import files\n",
        "uploaded = files.upload()\n"
      ],
      "metadata": {
        "id": "YoDvmljbABVX"
      },
      "execution_count": null,
      "outputs": []
    },
    {
      "cell_type": "code",
      "source": [
        "\n"
      ],
      "metadata": {
        "id": "3EB_kBGqAfsr"
      },
      "execution_count": null,
      "outputs": []
    },
    {
      "cell_type": "code",
      "source": [
        "import cv2\n",
        "from PIL import Image\n",
        "import numpy as np\n",
        "\n",
        "# 이미지를 NumPy 배열로 변환합니다.\n",
        "img = np.array(img)\n",
        "\n",
        "# threshold를 지정합니다.\n",
        "low_threshold = 100\n",
        "high_threshold = 200\n",
        "\n",
        "# 윤곽선을 검출합니다.\n",
        "image = cv2.Canny(img, low_threshold, high_threshold)\n",
        "image = image[:, :, None]\n",
        "image = np.concatenate([image, image, image], axis=2)\n",
        "canny_image = Image.fromarray(image)  # NumPy 배열을 PIL 이미지로 변환합니다.\n",
        "\n",
        "canny_image"
      ],
      "metadata": {
        "id": "_jWyBa9FAubu"
      },
      "execution_count": null,
      "outputs": []
    },
    {
      "cell_type": "code",
      "source": [
        "from diffusers import StableDiffusionControlNetPipeline, ControlNetModel\n",
        "\n",
        "canny_controlnet = ControlNetModel.from_pretrained(\"lllyasviel/sd-controlnet-canny\", torch_dtype=torch.float16)\n",
        "canny_pipe = StableDiffusionControlNetPipeline.from_pretrained(\n",
        "    \"runwayml/stable-diffusion-v1-5\", controlnet=canny_controlnet, torch_dtype=torch.float16\n",
        ")"
      ],
      "metadata": {
        "id": "xNB6HZyaBWNx"
      },
      "execution_count": null,
      "outputs": []
    },
    {
      "cell_type": "code",
      "source": [
        "from diffusers import UniPCMultistepScheduler\n",
        "canny_pipe.scheduler = UniPCMultistepScheduler.from_config(canny_pipe.scheduler.config)\n",
        "canny_pipe = canny_pipe.to(\"cuda\")\n",
        "\n",
        "generator = torch.manual_seed(0)\n",
        "\n",
        "canny_image = canny_pipe(\n",
        "    prompt=\"robots are sitting on the box\",\n",
        "    num_inference_steps=20,\n",
        "    generator=generator,\n",
        "    image=canny_image\n",
        ").images[0]"
      ],
      "metadata": {
        "id": "YpmPcy3-BdjI"
      },
      "execution_count": null,
      "outputs": []
    },
    {
      "cell_type": "code",
      "source": [
        "canny_image"
      ],
      "metadata": {
        "id": "b34EDputCFrI"
      },
      "execution_count": null,
      "outputs": []
    },
    {
      "cell_type": "markdown",
      "source": [
        "뭐지... 이.. 난해한 그림은"
      ],
      "metadata": {
        "id": "BjWbINBIGIzr"
      }
    },
    {
      "cell_type": "code",
      "source": [
        "!pip install controlnet-aux==0.0.1"
      ],
      "metadata": {
        "id": "BszDIJIxESi-"
      },
      "execution_count": null,
      "outputs": []
    },
    {
      "cell_type": "code",
      "source": [
        "from diffusers.utils import load_image"
      ],
      "metadata": {
        "id": "I8MOP5CeGNwA"
      },
      "execution_count": null,
      "outputs": []
    },
    {
      "cell_type": "code",
      "source": [
        "from google.colab import files\n",
        "uploaded = files.upload()"
      ],
      "metadata": {
        "id": "QdqPe1hvGRec"
      },
      "execution_count": null,
      "outputs": []
    },
    {
      "cell_type": "code",
      "source": [
        "from PIL import Image\n",
        "img = Image.open('IMG_0271-26040.jpg')\n",
        "img"
      ],
      "metadata": {
        "id": "O8e7kYfKGUyJ"
      },
      "execution_count": null,
      "outputs": []
    },
    {
      "cell_type": "code",
      "source": [
        "from controlnet_aux import OpenposeDetector\n",
        "\n",
        "# 인체의 자세를 검출하는 사전 학습된 ControlNet 불러오기\n",
        "openpose = OpenposeDetector.from_pretrained(\"lllyasviel/ControlNet\")\n",
        "\n",
        "# 이미지에서 자세 검출\n",
        "openpose_image = openpose(img)\n",
        "openpose_image"
      ],
      "metadata": {
        "id": "qvbO9ywOGdBj"
      },
      "execution_count": null,
      "outputs": []
    },
    {
      "cell_type": "code",
      "source": [
        "from diffusers import StableDiffusionControlNetPipeline, ControlNetModel\n",
        "\n",
        "openpose_controlnet = ControlNetModel.from_pretrained(\"lllyasviel/sd-controlnet-openpose\", torch_dtype=torch.float16)\n",
        "openpose_pipe = StableDiffusionControlNetPipeline.from_pretrained(\n",
        "    \"runwayml/stable-diffusion-v1-5\", controlnet=openpose_controlnet, torch_dtype=torch.float16\n",
        ")"
      ],
      "metadata": {
        "id": "dpblHIWIGnTL"
      },
      "execution_count": null,
      "outputs": []
    },
    {
      "cell_type": "code",
      "source": [
        "from diffusers import UniPCMultistepScheduler\n",
        "import torch\n",
        "\n",
        "# 스케줄러 설정\n",
        "openpose_pipe.scheduler = UniPCMultistepScheduler.from_config(openpose_pipe.scheduler.config)\n",
        "\n",
        "# CUDA로 모델 이동\n",
        "openpose_pipe = openpose_pipe.to(\"cuda\")\n",
        "\n",
        "# ✅ 시드 고정 (동일한 결과 생성)\n",
        "generator = torch.Generator(device=\"cuda\").manual_seed(42)\n",
        "\n",
        "# ✅ 프롬프트 설정\n",
        "prompt = \"a person doing a dynamic pose, full body, detailed clothing, high quality, professional photo\"\n",
        "negative_prompt = \"low quality, blurry, distorted, extra limbs\"\n",
        "\n",
        "# ✅ 입력 이미지\n",
        "images = openpose_image  # 보통 openpose 이미지에서 받아온 입력 이미지일 거야\n",
        "\n",
        "# ✅ 이미지 생성\n",
        "openpose_image1 = openpose_pipe(\n",
        "    prompt=prompt,\n",
        "    image=images,\n",
        "    negative_prompt=negative_prompt,\n",
        "    generator=generator\n",
        ").images[0]"
      ],
      "metadata": {
        "id": "TCI8VlcCGq3H"
      },
      "execution_count": null,
      "outputs": []
    },
    {
      "cell_type": "code",
      "source": [
        "import matplotlib.pyplot as plt\n",
        "\n",
        "plt.imshow(openpose_image1)\n",
        "plt.axis(\"off\")\n",
        "plt.show()"
      ],
      "metadata": {
        "id": "iiSUXR8-HXLH"
      },
      "execution_count": null,
      "outputs": []
    },
    {
      "cell_type": "markdown",
      "source": [
        "무서워.... 손이 이상해....."
      ],
      "metadata": {
        "id": "zFD01vKNHtwf"
      }
    },
    {
      "cell_type": "code",
      "source": [
        "from diffusers.utils import load_image\n",
        "from PIL import Image\n",
        "import cv2\n",
        "import numpy as np"
      ],
      "metadata": {
        "id": "O1a1VLTBHonS"
      },
      "execution_count": null,
      "outputs": []
    },
    {
      "cell_type": "code",
      "source": [
        "from google.colab import files\n",
        "uploaded = files.upload()"
      ],
      "metadata": {
        "id": "Q_qSqkweIOC1"
      },
      "execution_count": null,
      "outputs": []
    },
    {
      "cell_type": "code",
      "source": [
        "from PIL import Image\n",
        "img = Image.open('IMG_0273-26042.jpg')\n",
        "img"
      ],
      "metadata": {
        "id": "0sZTrmv0ISs4"
      },
      "execution_count": null,
      "outputs": []
    },
    {
      "cell_type": "code",
      "source": [
        "low_threshold = 100\n",
        "high_threshold = 200"
      ],
      "metadata": {
        "id": "LmZMLuQUIaiD"
      },
      "execution_count": null,
      "outputs": []
    },
    {
      "cell_type": "code",
      "source": [
        "canny_image = np.array(img)"
      ],
      "metadata": {
        "id": "Qczo1f4yIgK3"
      },
      "execution_count": null,
      "outputs": []
    },
    {
      "cell_type": "code",
      "source": [
        "canny_image= cv2.Canny(canny_image, low_threshold, high_threshold)\n",
        "\n"
      ],
      "metadata": {
        "id": "jBMOfQU_IiLW"
      },
      "execution_count": null,
      "outputs": []
    },
    {
      "cell_type": "code",
      "source": [
        "zero_start = canny_image.shape[1] // 4\n",
        "zero_end = zero_start + canny_image.shape[1] // 2\n",
        "canny_image[:, zero_start:zero_end] = 0"
      ],
      "metadata": {
        "id": "bR1bxOf3Ip7V"
      },
      "execution_count": null,
      "outputs": []
    },
    {
      "cell_type": "code",
      "source": [
        "canny_image = np.stack([canny_image]*3, axis=-1)"
      ],
      "metadata": {
        "id": "6ega2ucGIqbj"
      },
      "execution_count": null,
      "outputs": []
    },
    {
      "cell_type": "code",
      "source": [
        "canny_image = Image.fromarray(canny_image)"
      ],
      "metadata": {
        "id": "XHi7ykGMIsPe"
      },
      "execution_count": null,
      "outputs": []
    },
    {
      "cell_type": "code",
      "source": [
        "import matplotlib.pyplot as plt\n",
        "plt.imshow(canny_image)\n",
        "plt.axis(\"off\")\n",
        "plt.show()"
      ],
      "metadata": {
        "id": "stf1mAoDIt5q"
      },
      "execution_count": null,
      "outputs": []
    },
    {
      "cell_type": "code",
      "source": [
        "from controlnet_aux import OpenposeDetector\n",
        "from diffusers.utils import load_image"
      ],
      "metadata": {
        "id": "T35jhFxDIvcQ"
      },
      "execution_count": null,
      "outputs": []
    },
    {
      "cell_type": "code",
      "source": [
        "from google.colab import files\n",
        "uploaded = files.upload()"
      ],
      "metadata": {
        "id": "9JRgA-0yJAUs"
      },
      "execution_count": null,
      "outputs": []
    },
    {
      "cell_type": "code",
      "source": [
        "from PIL import Image\n",
        "img = Image.open('IMG_0319-26088.jpg')\n",
        "img"
      ],
      "metadata": {
        "id": "7q5dpVcLJMfj"
      },
      "execution_count": null,
      "outputs": []
    },
    {
      "cell_type": "code",
      "source": [
        "openpose = OpenposeDetector.from_pretrained(\"lllyasviel/ControlNet\")"
      ],
      "metadata": {
        "id": "MMcTpj2xJY_T"
      },
      "execution_count": null,
      "outputs": []
    },
    {
      "cell_type": "code",
      "source": [
        "openpose_image = openpose(img)"
      ],
      "metadata": {
        "id": "FqI_tzJtJd_C"
      },
      "execution_count": null,
      "outputs": []
    },
    {
      "cell_type": "code",
      "source": [
        "from diffusers import StableDiffusionControlNetPipeline, ControlNetModel, UniPCMultistepScheduler\n",
        "import torch"
      ],
      "metadata": {
        "id": "WT0enuzHJgpJ"
      },
      "execution_count": null,
      "outputs": []
    },
    {
      "cell_type": "code",
      "source": [
        "controlnets = [\n",
        "    ControlNetModel.from_pretrained(\"lllyasviel/sd-controlnet-openpose\", torch_dtype=torch.float16),\n",
        "    ControlNetModel.from_pretrained(\"lllyasviel/sd-controlnet-canny\", torch_dtype=torch.float16)\n",
        "]"
      ],
      "metadata": {
        "id": "e-Bs4LR9JvH-"
      },
      "execution_count": null,
      "outputs": []
    },
    {
      "cell_type": "code",
      "source": [
        "pipe = StableDiffusionControlNetPipeline.from_pretrained(\n",
        "    \"runwayml/stable-diffusion-v1-5\",\n",
        "    controlnet=controlnets,\n",
        "    torch_dtype=torch.float16\n",
        ")"
      ],
      "metadata": {
        "id": "BQTmY0TJJx3a"
      },
      "execution_count": null,
      "outputs": []
    },
    {
      "cell_type": "code",
      "source": [
        "pipe.scheduler = UniPCMultistepScheduler.from_config(pipe.scheduler.config)\n",
        "pipe = pipe.to(\"cuda\")"
      ],
      "metadata": {
        "id": "YNoNJfHsJzhF"
      },
      "execution_count": null,
      "outputs": []
    },
    {
      "cell_type": "code",
      "source": [
        "prompt = \"two cats are sitting on the box, 4k, detailed\"\n",
        "negative_prompt = \"low quality, blurry, distorted, extra limbs, bad anatomy\""
      ],
      "metadata": {
        "id": "NxfL5P6oJ1vy"
      },
      "execution_count": null,
      "outputs": []
    },
    {
      "cell_type": "code",
      "source": [
        "generator = torch.Generator(device=\"cuda\").manual_seed(42)\n"
      ],
      "metadata": {
        "id": "Pg2FeV6WJ388"
      },
      "execution_count": null,
      "outputs": []
    },
    {
      "cell_type": "code",
      "source": [
        "images = [openpose_image, canny_image]\n"
      ],
      "metadata": {
        "id": "kfXynl0PJ6AO"
      },
      "execution_count": null,
      "outputs": []
    },
    {
      "cell_type": "code",
      "source": [
        "from PIL import Image\n",
        "\n",
        "# 이미지 크기를 동일하게 맞춰줌 (매우 중요!)\n",
        "openpose_image = openpose_image.resize((512, 512))\n",
        "canny_image = canny_image.resize((512, 512))\n",
        "\n",
        "images = [openpose_image, canny_image]\n",
        "\n",
        "# 파이프라인 실행\n",
        "image = pipe(\n",
        "    prompt=prompt,\n",
        "    negative_prompt=negative_prompt,\n",
        "    image=images,\n",
        "    generator=generator,\n",
        "    num_inference_steps=30\n",
        ").images[0]"
      ],
      "metadata": {
        "id": "eXZUHLC-KB88"
      },
      "execution_count": null,
      "outputs": []
    },
    {
      "cell_type": "code",
      "source": [
        "image"
      ],
      "metadata": {
        "id": "j49r_RC2J8or"
      },
      "execution_count": null,
      "outputs": []
    },
    {
      "cell_type": "markdown",
      "source": [
        "ㅋㅋㅋㅋㅋㅋㅋㅋㅋㅋㅋㅋㅋㅋㅋㅋㅋㅋㅋㅋㅋㅋ"
      ],
      "metadata": {
        "id": "jEDxyivRKcNO"
      }
    },
    {
      "cell_type": "markdown",
      "source": [
        "#회고"
      ],
      "metadata": {
        "id": "2M8rVBZaKey2"
      }
    },
    {
      "cell_type": "markdown",
      "source": [
        "* 재미있었다! 내가 설정한대로 나오진 않지만 ㅋㅋㅋㅋㅋㅋㅋㅋ\n",
        "* 프롬프트를 짜는 기술의 중요성이 높아질 것 같다.\n",
        "* 마지막 고양이 짤이 제일 웃기다 ㅋㅋ"
      ],
      "metadata": {
        "id": "HTGaTc0IKgQh"
      }
    },
    {
      "cell_type": "code",
      "source": [],
      "metadata": {
        "id": "GiwgThw5KfmK"
      },
      "execution_count": null,
      "outputs": []
    }
  ]
}