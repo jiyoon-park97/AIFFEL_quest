{
  "nbformat": 4,
  "nbformat_minor": 0,
  "metadata": {
    "colab": {
      "provenance": [],
      "machine_shape": "hm",
      "gpuType": "A100"
    },
    "kernelspec": {
      "name": "python3",
      "display_name": "Python 3"
    },
    "language_info": {
      "name": "python"
    },
    "accelerator": "GPU"
  },
  "cells": [
    {
      "cell_type": "code",
      "execution_count": 1,
      "metadata": {
        "colab": {
          "base_uri": "https://localhost:8080/"
        },
        "id": "-ybl1kKmO0o8",
        "outputId": "32de58bf-a98b-45a4-973d-ef76125989a4"
      },
      "outputs": [
        {
          "output_type": "stream",
          "name": "stdout",
          "text": [
            "Mounted at /content/drive\n"
          ]
        }
      ],
      "source": [
        "from google.colab import drive\n",
        "drive.mount('/content/drive')\n"
      ]
    },
    {
      "cell_type": "code",
      "source": [
        "train_path = \"/content/drive/MyDrive/AIFFEL_Exploration/5/개인및관계_train.json\"\n",
        "valid_path = \"/content/drive/MyDrive/AIFFEL_Exploration/5/개인및관계_valid.json\"\n"
      ],
      "metadata": {
        "id": "RYgB-FlAO4mq"
      },
      "execution_count": 2,
      "outputs": []
    },
    {
      "cell_type": "code",
      "source": [
        "import json\n",
        "\n",
        "def load_json_pairs(json_path):\n",
        "    with open(json_path, 'r', encoding='utf-8') as f:\n",
        "        raw = json.load(f)\n",
        "\n",
        "    pairs = []\n",
        "    for dialog in raw['data']:\n",
        "        utterances = dialog.get('body', [])\n",
        "        utter_texts = [u.get('utterance', '').strip() for u in utterances if u.get('utterance', '').strip()]\n",
        "\n",
        "        for i in range(len(utter_texts) - 1):\n",
        "            q = utter_texts[i]\n",
        "            a = utter_texts[i + 1]\n",
        "            pairs.append((q, a))\n",
        "\n",
        "    return pairs\n"
      ],
      "metadata": {
        "id": "A_2Iq1NSPJQw"
      },
      "execution_count": 3,
      "outputs": []
    },
    {
      "cell_type": "code",
      "source": [
        "train_pairs = load_json_pairs(train_path)\n",
        "valid_pairs = load_json_pairs(valid_path)\n",
        "\n",
        "print(\"train_pairs 수:\", len(train_pairs))  # 드디어 0보다 커야 해! 🎉\n"
      ],
      "metadata": {
        "colab": {
          "base_uri": "https://localhost:8080/"
        },
        "id": "gBY5zWnfRzGE",
        "outputId": "78ca30ce-c08c-4268-a999-497c5b34fef2"
      },
      "execution_count": 4,
      "outputs": [
        {
          "output_type": "stream",
          "name": "stdout",
          "text": [
            "train_pairs 수: 7919850\n"
          ]
        }
      ]
    },
    {
      "cell_type": "code",
      "source": [
        "with open(train_path, 'r', encoding='utf-8') as f:\n",
        "    sample = json.load(f)\n",
        "\n",
        "print(sample.keys())  # 'data' 있는지 확인\n",
        "print(sample['data'][0])  # 한 개만 보기\n"
      ],
      "metadata": {
        "colab": {
          "base_uri": "https://localhost:8080/"
        },
        "id": "dCiOUJELSUBG",
        "outputId": "c18491d3-07d8-4f84-b9d4-7c63f44d35ca"
      },
      "execution_count": 5,
      "outputs": [
        {
          "output_type": "stream",
          "name": "stdout",
          "text": [
            "dict_keys(['numberOfItems', 'data'])\n",
            "{'header': {'dialogueInfo': {'dialogueID': '565b3753-3543-56c6-9201-fca177bccfcc', 'numberOfParticipants': 2, 'numberOfUtterances': 30, 'numberOfTurns': 12, 'type': '일상 대화', 'topic': '개인 및 관계'}, 'participantsInfo': [{'participantID': 'P01', 'gender': '여성', 'age': '20대', 'residentialProvince': '경기도'}, {'participantID': 'P02', 'gender': '남성', 'age': '20대', 'residentialProvince': '경기도'}]}, 'body': [{'utteranceID': 'U1', 'turnID': 'T1', 'participantID': 'P01', 'date': '2017-07-24', 'time': '06:27:00', 'utterance': '나지금밥머거2시간걸어서'}, {'utteranceID': 'U2', 'turnID': 'T1', 'participantID': 'P01', 'date': '2017-07-24', 'time': '06:27:00', 'utterance': '번화가찾았어..ㅜㅜ'}, {'utteranceID': 'U3', 'turnID': 'T1', 'participantID': 'P01', 'date': '2017-07-24', 'time': '06:27:00', 'utterance': '잉ㅜㅜ'}, {'utteranceID': 'U4', 'turnID': 'T2', 'participantID': 'P02', 'date': '2017-07-24', 'time': '09:36:00', 'utterance': '헐 ㅠㅠ'}, {'utteranceID': 'U5', 'turnID': 'T2', 'participantID': 'P02', 'date': '2017-07-24', 'time': '09:36:00', 'utterance': '언넝호텔들가ㅠㅠ'}, {'utteranceID': 'U6', 'turnID': 'T2', 'participantID': 'P02', 'date': '2017-07-24', 'time': '09:37:00', 'utterance': '엄청피건할첸데'}, {'utteranceID': 'U7', 'turnID': 'T2', 'participantID': 'P02', 'date': '2017-07-24', 'time': '09:37:00', 'utterance': '나는인낫러요'}, {'utteranceID': 'U8', 'turnID': 'T2', 'participantID': 'P02', 'date': '2017-07-24', 'time': '11:13:00', 'utterance': '나 두시출근이다ㅎㅎㅎㅎ'}, {'utteranceID': 'U9', 'turnID': 'T2', 'participantID': 'P02', 'date': '2017-07-24', 'time': '11:13:00', 'utterance': '퀵으로한대서 두시까지오래 ㅋㅋㅋㅋ'}, {'utteranceID': 'U10', 'turnID': 'T3', 'participantID': 'P01', 'date': '2017-07-24', 'time': '11:29:00', 'utterance': 'ㅎㅎㅎㅎ오좋겠네'}, {'utteranceID': 'U11', 'turnID': 'T4', 'participantID': 'P02', 'date': '2017-07-24', 'time': '11:34:00', 'utterance': '잘잣어??ㅋㅋㅋㅋㅋ'}, {'utteranceID': 'U12', 'turnID': 'T5', 'participantID': 'P01', 'date': '2017-07-24', 'time': '12:19:00', 'utterance': 'ㅋㄱㅋㄱㄱㄱㄱ아니'}, {'utteranceID': 'U13', 'turnID': 'T5', 'participantID': 'P01', 'date': '2017-07-24', 'time': '12:19:00', 'utterance': '자지도못했어'}, {'utteranceID': 'U14', 'turnID': 'T5', 'participantID': 'P01', 'date': '2017-07-24', 'time': '12:19:00', 'utterance': '진짜피씨방에서30분?'}, {'utteranceID': 'U15', 'turnID': 'T5', 'participantID': 'P01', 'date': '2017-07-24', 'time': '12:30:00', 'utterance': '너가좋아하는돈가쭈'}, {'utteranceID': 'U16', 'turnID': 'T5', 'participantID': 'P01', 'date': '2017-07-24', 'time': '12:30:00', 'utterance': '머거'}, {'utteranceID': 'U17', 'turnID': 'T6', 'participantID': 'P02', 'date': '2017-07-24', 'time': '12:34:00', 'utterance': '잉'}, {'utteranceID': 'U18', 'turnID': 'T6', 'participantID': 'P02', 'date': '2017-07-24', 'time': '12:34:00', 'utterance': '나도줘...'}, {'utteranceID': 'U19', 'turnID': 'T6', 'participantID': 'P02', 'date': '2017-07-24', 'time': '12:34:00', 'utterance': '내돈가쓰...'}, {'utteranceID': 'U20', 'turnID': 'T7', 'participantID': 'P01', 'date': '2017-07-24', 'time': '12:34:00', 'utterance': 'ㅋㄱㄱㄱㄱㄱ맛있어'}, {'utteranceID': 'U21', 'turnID': 'T7', 'participantID': 'P01', 'date': '2017-07-24', 'time': '12:34:00', 'utterance': '고로케도존맛탱'}, {'utteranceID': 'U22', 'turnID': 'T8', 'participantID': 'P02', 'date': '2017-07-24', 'time': '12:35:00', 'utterance': '사진찍엇어....???'}, {'utteranceID': 'U23', 'turnID': 'T9', 'participantID': 'P01', 'date': '2017-07-24', 'time': '12:46:00', 'utterance': 'ㅋㄱㄱㄱㅋ'}, {'utteranceID': 'U24', 'turnID': 'T9', 'participantID': 'P01', 'date': '2017-07-24', 'time': '12:46:00', 'utterance': '먼사진?'}, {'utteranceID': 'U25', 'turnID': 'T10', 'participantID': 'P02', 'date': '2017-07-24', 'time': '12:47:00', 'utterance': '돈따스!!!!!!@@@@@!!!!'}, {'utteranceID': 'U26', 'turnID': 'T11', 'participantID': 'P01', 'date': '2017-07-24', 'time': '12:47:00', 'utterance': '안보내줫어?'}, {'utteranceID': 'U27', 'turnID': 'T11', 'participantID': 'P01', 'date': '2017-07-24', 'time': '12:47:00', 'utterance': '엥보낸줄알았는대'}, {'utteranceID': 'U28', 'turnID': 'T11', 'participantID': 'P01', 'date': '2017-07-24', 'time': '12:48:00', 'utterance': '#@시스템#사진#'}, {'utteranceID': 'U29', 'turnID': 'T11', 'participantID': 'P01', 'date': '2017-07-24', 'time': '12:48:00', 'utterance': '이거'}, {'utteranceID': 'U30', 'turnID': 'T12', 'participantID': 'P02', 'date': '2017-07-24', 'time': '13:06:00', 'utterance': '하 ......ㅡ'}]}\n"
          ]
        }
      ]
    },
    {
      "cell_type": "markdown",
      "source": [
        "#전처리"
      ],
      "metadata": {
        "id": "kc6vNVeyQg6t"
      }
    },
    {
      "cell_type": "code",
      "source": [
        "import re\n",
        "\n",
        "def clean_text(text):\n",
        "    text = str(text).strip()\n",
        "    text = re.sub(r\"[^ㄱ-ㅎ가-힣0-9a-zA-Z .,!?]\", \"\", text)\n",
        "    return text\n",
        "\n",
        "def apply_cleaning(pairs):\n",
        "    cleaned = []\n",
        "    for q, a in pairs:\n",
        "        q_clean = clean_text(q)\n",
        "        a_clean = clean_text(a)\n",
        "        if q_clean and a_clean:\n",
        "            cleaned.append((q_clean, a_clean))\n",
        "    return cleaned"
      ],
      "metadata": {
        "id": "Z-6-MMgbPLLE"
      },
      "execution_count": 6,
      "outputs": []
    },
    {
      "cell_type": "code",
      "source": [
        "train_pairs = load_json_pairs(train_path)\n",
        "valid_pairs = load_json_pairs(valid_path)\n",
        "\n",
        "cleaned_train_pairs = apply_cleaning(train_pairs)\n",
        "cleaned_valid_pairs = apply_cleaning(valid_pairs)\n",
        "\n",
        "print(\"✅ cleaned_train_pairs 개수:\", len(cleaned_train_pairs))\n",
        "\n"
      ],
      "metadata": {
        "colab": {
          "base_uri": "https://localhost:8080/"
        },
        "id": "uFbXCeggQidu",
        "outputId": "0371e5c0-f8e3-4ccc-ee74-a876015ee4d6"
      },
      "execution_count": 7,
      "outputs": [
        {
          "output_type": "stream",
          "name": "stdout",
          "text": [
            "✅ cleaned_train_pairs 개수: 7814353\n"
          ]
        }
      ]
    },
    {
      "cell_type": "code",
      "source": [
        "with open(\"train_texts_ko.txt\", \"w\", encoding=\"utf-8\") as f:\n",
        "    for q, a in cleaned_train_pairs:\n",
        "        f.write(q + \"\\n\")\n",
        "        f.write(a + \"\\n\")\n"
      ],
      "metadata": {
        "id": "CluBcoNe0BZE"
      },
      "execution_count": 18,
      "outputs": []
    },
    {
      "cell_type": "code",
      "source": [
        "!pip install tokenizers\n"
      ],
      "metadata": {
        "colab": {
          "base_uri": "https://localhost:8080/"
        },
        "id": "_ForRSv6QkOJ",
        "outputId": "db11e4e9-2bc0-4fa8-fdc7-4ff7c51b7218"
      },
      "execution_count": 8,
      "outputs": [
        {
          "output_type": "stream",
          "name": "stdout",
          "text": [
            "Requirement already satisfied: tokenizers in /usr/local/lib/python3.11/dist-packages (0.21.1)\n",
            "Requirement already satisfied: huggingface-hub<1.0,>=0.16.4 in /usr/local/lib/python3.11/dist-packages (from tokenizers) (0.30.2)\n",
            "Requirement already satisfied: filelock in /usr/local/lib/python3.11/dist-packages (from huggingface-hub<1.0,>=0.16.4->tokenizers) (3.18.0)\n",
            "Requirement already satisfied: fsspec>=2023.5.0 in /usr/local/lib/python3.11/dist-packages (from huggingface-hub<1.0,>=0.16.4->tokenizers) (2025.3.2)\n",
            "Requirement already satisfied: packaging>=20.9 in /usr/local/lib/python3.11/dist-packages (from huggingface-hub<1.0,>=0.16.4->tokenizers) (24.2)\n",
            "Requirement already satisfied: pyyaml>=5.1 in /usr/local/lib/python3.11/dist-packages (from huggingface-hub<1.0,>=0.16.4->tokenizers) (6.0.2)\n",
            "Requirement already satisfied: requests in /usr/local/lib/python3.11/dist-packages (from huggingface-hub<1.0,>=0.16.4->tokenizers) (2.32.3)\n",
            "Requirement already satisfied: tqdm>=4.42.1 in /usr/local/lib/python3.11/dist-packages (from huggingface-hub<1.0,>=0.16.4->tokenizers) (4.67.1)\n",
            "Requirement already satisfied: typing-extensions>=3.7.4.3 in /usr/local/lib/python3.11/dist-packages (from huggingface-hub<1.0,>=0.16.4->tokenizers) (4.13.2)\n",
            "Requirement already satisfied: charset-normalizer<4,>=2 in /usr/local/lib/python3.11/dist-packages (from requests->huggingface-hub<1.0,>=0.16.4->tokenizers) (3.4.1)\n",
            "Requirement already satisfied: idna<4,>=2.5 in /usr/local/lib/python3.11/dist-packages (from requests->huggingface-hub<1.0,>=0.16.4->tokenizers) (3.10)\n",
            "Requirement already satisfied: urllib3<3,>=1.21.1 in /usr/local/lib/python3.11/dist-packages (from requests->huggingface-hub<1.0,>=0.16.4->tokenizers) (2.3.0)\n",
            "Requirement already satisfied: certifi>=2017.4.17 in /usr/local/lib/python3.11/dist-packages (from requests->huggingface-hub<1.0,>=0.16.4->tokenizers) (2025.1.31)\n"
          ]
        }
      ]
    },
    {
      "cell_type": "markdown",
      "source": [
        "#✅ 대화 데이터를 숫자 시퀀스로 변환하고, 학습용 Dataset 만들기"
      ],
      "metadata": {
        "id": "kH8zdAUTXjev"
      }
    },
    {
      "cell_type": "code",
      "source": [
        "from tokenizers import ByteLevelBPETokenizer\n",
        "import os\n",
        "\n",
        "save_dir = \"tokenizer_korean\"\n",
        "os.makedirs(save_dir, exist_ok=True)\n",
        "\n",
        "tokenizer = ByteLevelBPETokenizer()\n",
        "tokenizer.train(\n",
        "    files=\"train_texts_ko.txt\",\n",
        "    vocab_size=8000,\n",
        "    min_frequency=2,\n",
        "    special_tokens=[\"<s>\", \"<pad>\", \"</s>\", \"<unk>\", \"<mask>\"]\n",
        ")\n",
        "\n",
        "tokenizer.save_model(save_dir)\n"
      ],
      "metadata": {
        "colab": {
          "base_uri": "https://localhost:8080/"
        },
        "id": "bcBx2_OG1k-L",
        "outputId": "9aacddbb-8988-4d74-feec-93489bd8d66f"
      },
      "execution_count": 27,
      "outputs": [
        {
          "output_type": "execute_result",
          "data": {
            "text/plain": [
              "['tokenizer_korean/vocab.json', 'tokenizer_korean/merges.txt']"
            ]
          },
          "metadata": {},
          "execution_count": 27
        }
      ]
    },
    {
      "cell_type": "code",
      "source": [
        "from tokenizers.implementations import ByteLevelBPETokenizer\n",
        "from transformers import PreTrainedTokenizerFast\n",
        "\n",
        "# 1. 기존 BPE 토크나이저 다시 불러오기\n",
        "bpe_tokenizer = ByteLevelBPETokenizer(\n",
        "    \"tokenizer_korean/vocab.json\",\n",
        "    \"tokenizer_korean/merges.txt\"\n",
        ")\n",
        "\n",
        "# 2. HuggingFace용으로 변환\n",
        "hf_tokenizer = PreTrainedTokenizerFast(\n",
        "    tokenizer_object=bpe_tokenizer,\n",
        "    unk_token=\"<unk>\",\n",
        "    pad_token=\"<pad>\",\n",
        "    cls_token=\"<s>\",\n",
        "    sep_token=\"</s>\",\n",
        "    mask_token=\"<mask>\"\n",
        ")\n",
        "\n",
        "# 3. tokenizer.json 생성 및 저장\n",
        "hf_tokenizer.save_pretrained(\"tokenizer_korean\")\n"
      ],
      "metadata": {
        "colab": {
          "base_uri": "https://localhost:8080/"
        },
        "id": "oM2wfJs32zIf",
        "outputId": "a10131e7-b77e-44be-d00d-b0b2ee27fdce"
      },
      "execution_count": 31,
      "outputs": [
        {
          "output_type": "execute_result",
          "data": {
            "text/plain": [
              "('tokenizer_korean/tokenizer_config.json',\n",
              " 'tokenizer_korean/special_tokens_map.json',\n",
              " 'tokenizer_korean/tokenizer.json')"
            ]
          },
          "metadata": {},
          "execution_count": 31
        }
      ]
    },
    {
      "cell_type": "code",
      "source": [
        "from transformers import PreTrainedTokenizerFast\n",
        "\n",
        "tokenizer = PreTrainedTokenizerFast.from_pretrained(\n",
        "    \"./tokenizer_korean\",\n",
        "    unk_token=\"<unk>\",\n",
        "    pad_token=\"<pad>\",\n",
        "    cls_token=\"<s>\",\n",
        "    sep_token=\"</s>\",       # 여기 설정하면...\n",
        "    mask_token=\"<mask>\"\n",
        ")\n",
        "\n",
        "print(\"sep_token 확인:\", tokenizer.sep_token)  # → '</s>' 나와야 해!\n",
        "\n",
        "\n"
      ],
      "metadata": {
        "colab": {
          "base_uri": "https://localhost:8080/"
        },
        "id": "QOVM_4ga1QBA",
        "outputId": "16ea1807-b967-4b79-cd5f-7292a61b0795"
      },
      "execution_count": 38,
      "outputs": [
        {
          "output_type": "stream",
          "name": "stdout",
          "text": [
            "sep_token 확인: </s>\n"
          ]
        }
      ]
    },
    {
      "cell_type": "code",
      "source": [
        "!ls tokenizer_korean"
      ],
      "metadata": {
        "colab": {
          "base_uri": "https://localhost:8080/"
        },
        "id": "GyglXR3t21fA",
        "outputId": "a6f8d511-b338-40d8-88d3-8e357227ecb7"
      },
      "execution_count": 39,
      "outputs": [
        {
          "output_type": "stream",
          "name": "stdout",
          "text": [
            "merges.txt\t\t tokenizer_config.json\tvocab.json\n",
            "special_tokens_map.json  tokenizer.json\n"
          ]
        }
      ]
    },
    {
      "cell_type": "markdown",
      "source": [
        "#토크나이즈"
      ],
      "metadata": {
        "id": "MPemqVPD2811"
      }
    },
    {
      "cell_type": "code",
      "source": [
        "def tokenize_conversations_batch(pairs, tokenizer, max_length=64):\n",
        "    texts = [q + tokenizer.sep_token + a for q, a in pairs]\n",
        "    encoded = tokenizer(\n",
        "        texts,\n",
        "        padding=\"max_length\",\n",
        "        truncation=True,\n",
        "        max_length=max_length,\n",
        "        return_tensors=\"pt\"\n",
        "    )\n",
        "    return list(encoded[\"input_ids\"]), list(encoded[\"attention_mask\"])\n"
      ],
      "metadata": {
        "id": "WHzJQbRr28PG"
      },
      "execution_count": 40,
      "outputs": []
    },
    {
      "cell_type": "code",
      "source": [
        "sample_pairs = cleaned_train_pairs[:50000]\n",
        "valid_sample_pairs = cleaned_valid_pairs[:5000]\n",
        "train_inputs = [q + tokenizer.sep_token for q, a in cleaned_train_pairs[:50000]]\n",
        "train_labels = [a for q, a in cleaned_train_pairs[:50000]]\n"
      ],
      "metadata": {
        "id": "WwiWDYMI1JYA"
      },
      "execution_count": 94,
      "outputs": []
    },
    {
      "cell_type": "code",
      "source": [
        "train_input_ids, train_attention_masks = tokenize_conversations_fast(sample_pairs, tokenizer)\n",
        "valid_input_ids, valid_attention_masks = tokenize_conversations_fast(cleaned_valid_pairs[:5000], tokenizer)\n",
        "\n"
      ],
      "metadata": {
        "id": "V05zK9LRURID"
      },
      "execution_count": 95,
      "outputs": []
    },
    {
      "cell_type": "code",
      "source": [
        "import torch\n",
        "from torch.utils.data import Dataset\n",
        "\n",
        "class ChatDataset(Dataset):\n",
        "    def __init__(self, input_ids, attention_masks):\n",
        "        self.input_ids = input_ids\n",
        "        self.attention_masks = attention_masks\n",
        "\n",
        "    def __len__(self):\n",
        "        return len(self.input_ids)\n",
        "\n",
        "    def __getitem__(self, idx):\n",
        "        return {\n",
        "            \"input_ids\": torch.tensor(self.input_ids[idx], dtype=torch.long),\n",
        "            \"attention_mask\": torch.tensor(self.attention_masks[idx], dtype=torch.long),\n",
        "            \"labels\": torch.tensor(self.input_ids[idx], dtype=torch.long)\n",
        "        }\n",
        "\n",
        "train_dataset = ChatDataset(train_input_ids, train_attention_masks)\n",
        "valid_dataset = ChatDataset(valid_input_ids, valid_attention_masks)\n",
        "\n",
        "\n"
      ],
      "metadata": {
        "id": "7emZ20UwshTx"
      },
      "execution_count": 96,
      "outputs": []
    },
    {
      "cell_type": "code",
      "source": [
        "train_dataset = ChatDataset(train_input_ids, train_attention_masks)\n",
        "valid_dataset = ChatDataset(valid_input_ids, valid_attention_masks)\n"
      ],
      "metadata": {
        "id": "4Aa_xb0usq1t"
      },
      "execution_count": 97,
      "outputs": []
    },
    {
      "cell_type": "code",
      "source": [
        "from torch.utils.data import Dataset\n",
        "\n",
        "class QAChatDataset(Dataset):\n",
        "    def __init__(self, questions, answers, tokenizer, max_length=64):\n",
        "        self.questions = questions\n",
        "        self.answers = answers\n",
        "        self.tokenizer = tokenizer\n",
        "        self.max_length = max_length\n",
        "\n",
        "    def __len__(self):\n",
        "        return len(self.questions)\n",
        "\n",
        "    def __getitem__(self, idx):\n",
        "        q = self.questions[idx]\n",
        "        a = self.answers[idx]\n",
        "\n",
        "        enc_input = self.tokenizer(\n",
        "            q, truncation=True, padding=\"max_length\",\n",
        "            max_length=self.max_length, return_tensors=\"pt\"\n",
        "        )\n",
        "        enc_label = self.tokenizer(\n",
        "            a, truncation=True, padding=\"max_length\",\n",
        "            max_length=self.max_length, return_tensors=\"pt\"\n",
        "        )\n",
        "\n",
        "        return {\n",
        "            \"input_ids\": enc_input[\"input_ids\"].squeeze(),\n",
        "            \"labels\": enc_label[\"input_ids\"].squeeze()\n",
        "        }\n"
      ],
      "metadata": {
        "id": "HVJMFoNWA7S3"
      },
      "execution_count": 102,
      "outputs": []
    },
    {
      "cell_type": "code",
      "source": [
        "from torch.utils.data import DataLoader\n",
        "\n",
        "train_dataset = QAChatDataset(train_inputs, train_labels, tokenizer)\n",
        "train_loader = DataLoader(train_dataset, batch_size=16, shuffle=True)\n"
      ],
      "metadata": {
        "id": "Aoe_0AXwA9Du"
      },
      "execution_count": 103,
      "outputs": []
    },
    {
      "cell_type": "markdown",
      "source": [
        "#모델 만들기"
      ],
      "metadata": {
        "id": "h3Kasz5iRYK9"
      }
    },
    {
      "cell_type": "markdown",
      "source": [
        "positional Encoding"
      ],
      "metadata": {
        "id": "RmCKPdKzeYZu"
      }
    },
    {
      "cell_type": "code",
      "source": [
        "import torch\n",
        "import torch.nn as nn\n",
        "import math\n",
        "\n",
        "class PositionalEncoding(nn.Module):\n",
        "    def __init__(self, d_model, max_len=512):\n",
        "        super(PositionalEncoding, self).__init__()\n",
        "        pe = torch.zeros(max_len, d_model)\n",
        "        position = torch.arange(0, max_len).unsqueeze(1).float()\n",
        "        div_term = torch.exp(torch.arange(0, d_model, 2).float() * (-math.log(10000.0) / d_model))\n",
        "\n",
        "        pe[:, 0::2] = torch.sin(position * div_term)\n",
        "        pe[:, 1::2] = torch.cos(position * div_term)\n",
        "        pe = pe.unsqueeze(0)  # [1, max_len, d_model]\n",
        "\n",
        "        self.register_buffer(\"pe\", pe)\n",
        "\n",
        "    def forward(self, x):\n",
        "        x = x + self.pe[:, :x.size(1)].to(x.device)\n",
        "        return x\n"
      ],
      "metadata": {
        "id": "w9RRcgt4eV7n"
      },
      "execution_count": 46,
      "outputs": []
    },
    {
      "cell_type": "markdown",
      "source": [
        "TokenEmbbeding"
      ],
      "metadata": {
        "id": "oBpcjJi8ebW-"
      }
    },
    {
      "cell_type": "code",
      "source": [
        "class TokenEmbedding(nn.Module):\n",
        "    def __init__(self, vocab_size, d_model):\n",
        "        super(TokenEmbedding, self).__init__()\n",
        "        self.embedding = nn.Embedding(vocab_size, d_model)\n",
        "\n",
        "    def forward(self, x):\n",
        "        return self.embedding(x)\n"
      ],
      "metadata": {
        "id": "jbupVOkUeala"
      },
      "execution_count": 47,
      "outputs": []
    },
    {
      "cell_type": "markdown",
      "source": [
        "Multi-Head Self-Attention"
      ],
      "metadata": {
        "id": "3HzR2wLyeebB"
      }
    },
    {
      "cell_type": "code",
      "source": [
        "class MultiHeadSelfAttention(nn.Module):\n",
        "    def __init__(self, d_model, num_heads):\n",
        "        super().__init__()\n",
        "        assert d_model % num_heads == 0\n",
        "\n",
        "        self.num_heads = num_heads\n",
        "        self.head_dim = d_model // num_heads\n",
        "\n",
        "        self.qkv_proj = nn.Linear(d_model, d_model * 3)\n",
        "        self.out_proj = nn.Linear(d_model, d_model)\n",
        "\n",
        "    def forward(self, x, mask=None):\n",
        "        batch_size, seq_len, d_model = x.size()\n",
        "        qkv = self.qkv_proj(x)  # [B, S, 3*D]\n",
        "        qkv = qkv.view(batch_size, seq_len, 3, self.num_heads, self.head_dim)\n",
        "        qkv = qkv.permute(2, 0, 3, 1, 4)  # [3, B, H, S, D]\n",
        "        q, k, v = qkv[0], qkv[1], qkv[2]\n",
        "\n",
        "        attn_scores = torch.matmul(q, k.transpose(-2, -1)) / math.sqrt(self.head_dim)  # [B, H, S, S]\n",
        "        if mask is not None:\n",
        "            attn_scores = attn_scores.masked_fill(mask == 0, float('-inf'))\n",
        "\n",
        "        attn_weights = torch.softmax(attn_scores, dim=-1)\n",
        "        out = torch.matmul(attn_weights, v)  # [B, H, S, D]\n",
        "        out = out.transpose(1, 2).contiguous().view(batch_size, seq_len, d_model)\n",
        "\n",
        "        return self.out_proj(out)\n"
      ],
      "metadata": {
        "id": "0J2ebE2SedRG"
      },
      "execution_count": 48,
      "outputs": []
    },
    {
      "cell_type": "markdown",
      "source": [
        "Feed Forward"
      ],
      "metadata": {
        "id": "Hdm_awzNeiq5"
      }
    },
    {
      "cell_type": "code",
      "source": [
        "class FeedForward(nn.Module):\n",
        "    def __init__(self, d_model, d_ff, dropout=0.1):\n",
        "        super().__init__()\n",
        "        self.linear1 = nn.Linear(d_model, d_ff)\n",
        "        self.relu = nn.ReLU()\n",
        "        self.linear2 = nn.Linear(d_ff, d_model)\n",
        "        self.dropout = nn.Dropout(dropout)\n",
        "\n",
        "    def forward(self, x):\n",
        "        return self.linear2(self.dropout(self.relu(self.linear1(x))))\n"
      ],
      "metadata": {
        "id": "G5neA-qNehuQ"
      },
      "execution_count": 49,
      "outputs": []
    },
    {
      "cell_type": "markdown",
      "source": [
        "Decoder Block"
      ],
      "metadata": {
        "id": "BjMkeOZ1ekpe"
      }
    },
    {
      "cell_type": "code",
      "source": [
        "class DecoderBlock(nn.Module):\n",
        "    def __init__(self, d_model, num_heads, d_ff, dropout=0.1):\n",
        "        super().__init__()\n",
        "        self.attn = MultiHeadSelfAttention(d_model, num_heads)\n",
        "        self.ffn = FeedForward(d_model, d_ff, dropout)\n",
        "        self.norm1 = nn.LayerNorm(d_model)\n",
        "        self.norm2 = nn.LayerNorm(d_model)\n",
        "        self.dropout = nn.Dropout(dropout)\n",
        "\n",
        "    def forward(self, x, mask=None):\n",
        "        attn_out = self.attn(self.norm1(x), mask)\n",
        "        x = x + self.dropout(attn_out)\n",
        "        ffn_out = self.ffn(self.norm2(x))\n",
        "        x = x + self.dropout(ffn_out)\n",
        "        return x\n"
      ],
      "metadata": {
        "id": "Fl2tKy7Aej81"
      },
      "execution_count": 50,
      "outputs": []
    },
    {
      "cell_type": "code",
      "source": [
        "class GPT(nn.Module):\n",
        "    def __init__(self, vocab_size, d_model=512, n_layers=6, n_heads=8, d_ff=2048, max_len=512, dropout=0.1):\n",
        "        super().__init__()\n",
        "\n",
        "        self.token_embedding = TokenEmbedding(vocab_size, d_model)\n",
        "        self.pos_encoding = PositionalEncoding(d_model, max_len)\n",
        "\n",
        "        self.blocks = nn.ModuleList([\n",
        "            DecoderBlock(d_model, n_heads, d_ff, dropout)\n",
        "            for _ in range(n_layers)\n",
        "        ])\n",
        "\n",
        "        self.norm = nn.LayerNorm(d_model)\n",
        "        self.lm_head = nn.Linear(d_model, vocab_size)\n",
        "\n",
        "    def forward(self, input_ids):\n",
        "        mask = self.generate_causal_mask(input_ids.size(1)).to(input_ids.device)\n",
        "        x = self.token_embedding(input_ids)\n",
        "        x = self.pos_encoding(x)\n",
        "\n",
        "        for block in self.blocks:\n",
        "            x = block(x, mask)\n",
        "\n",
        "        x = self.norm(x)\n",
        "        return self.lm_head(x)\n",
        "\n",
        "    def generate_causal_mask(self, seq_len):\n",
        "        return torch.tril(torch.ones((1, 1, seq_len, seq_len), device='cpu')).to(torch.bool)\n"
      ],
      "metadata": {
        "id": "GfdqNxXyenJQ"
      },
      "execution_count": 51,
      "outputs": []
    },
    {
      "cell_type": "code",
      "source": [
        "import torch\n",
        "import torch.nn as nn\n",
        "from torch.optim import AdamW\n",
        "from torch.utils.data import DataLoader\n",
        "\n",
        "device = torch.device(\"cuda\" if torch.cuda.is_available() else \"cpu\")\n",
        "model = GPT(vocab_size=tokenizer.vocab_size).to(device)\n",
        "\n",
        "criterion = nn.CrossEntropyLoss(ignore_index=tokenizer.pad_token_id)\n",
        "optimizer = AdamW(model.parameters(), lr=5e-4)\n"
      ],
      "metadata": {
        "id": "__2areTwel3b"
      },
      "execution_count": 52,
      "outputs": []
    },
    {
      "cell_type": "code",
      "source": [
        "train_loader = DataLoader(train_dataset, batch_size=16, shuffle=True)\n",
        "valid_loader = DataLoader(valid_dataset, batch_size=16)\n"
      ],
      "metadata": {
        "id": "n56dkptpr0By"
      },
      "execution_count": 98,
      "outputs": []
    },
    {
      "cell_type": "code",
      "source": [
        "import torch.nn as nn\n",
        "from torch.optim import AdamW\n",
        "\n",
        "device = torch.device(\"cuda\" if torch.cuda.is_available() else \"cpu\")\n",
        "model = GPT(vocab_size=tokenizer.vocab_size).to(device)\n",
        "\n",
        "criterion = nn.CrossEntropyLoss(ignore_index=tokenizer.pad_token_id)\n",
        "optimizer = AdamW(model.parameters(), lr=5e-4)\n",
        "\n",
        "epochs = 10\n",
        "\n",
        "for epoch in range(epochs):\n",
        "    model.train()\n",
        "    total_loss = 0\n",
        "\n",
        "    for batch in train_loader:\n",
        "        input_ids = batch[\"input_ids\"].to(device)\n",
        "        labels = batch[\"labels\"].to(device)\n",
        "\n",
        "        optimizer.zero_grad()\n",
        "        outputs = model(input_ids)  # (batch, seq, vocab)\n",
        "\n",
        "        loss = criterion(outputs.view(-1, outputs.size(-1)), labels.view(-1))\n",
        "        loss.backward()\n",
        "        optimizer.step()\n",
        "\n",
        "        total_loss += loss.item()\n",
        "\n",
        "    print(f\"📘 Epoch {epoch+1} | Train Loss: {total_loss / len(train_loader):.4f}\")\n",
        "\n",
        "\n"
      ],
      "metadata": {
        "colab": {
          "base_uri": "https://localhost:8080/"
        },
        "id": "KFOURR6UsQZw",
        "outputId": "72313e9e-3ce5-46e5-bdf6-d8831f6fd6ae"
      },
      "execution_count": 110,
      "outputs": [
        {
          "output_type": "stream",
          "name": "stdout",
          "text": [
            "📘 Epoch 1 | Train Loss: 7.9094\n",
            "📘 Epoch 2 | Train Loss: 7.7035\n",
            "📘 Epoch 3 | Train Loss: 7.6686\n",
            "📘 Epoch 4 | Train Loss: 7.6362\n",
            "📘 Epoch 5 | Train Loss: 7.6026\n",
            "📘 Epoch 6 | Train Loss: 7.5621\n",
            "📘 Epoch 7 | Train Loss: 7.5081\n",
            "📘 Epoch 8 | Train Loss: 7.4337\n",
            "📘 Epoch 9 | Train Loss: 7.3384\n",
            "📘 Epoch 10 | Train Loss: 7.2236\n"
          ]
        }
      ]
    },
    {
      "cell_type": "code",
      "source": [
        "import torch.nn.functional as F\n",
        "import random\n",
        "\n",
        "def generate_response(prompt, tokenizer, model, max_length=50, top_k=10, temperature=1.0):\n",
        "    model.eval()\n",
        "    device = model.lm_head.weight.device\n",
        "\n",
        "    input_text = prompt + tokenizer.sep_token\n",
        "    input_ids = tokenizer(input_text, return_tensors=\"pt\")[\"input_ids\"].to(device)\n",
        "\n",
        "    for _ in range(max_length):\n",
        "        with torch.no_grad():\n",
        "            outputs = model(input_ids)\n",
        "            next_token_logits = outputs[:, -1, :] / temperature\n",
        "\n",
        "            # Top-k 샘플링\n",
        "            top_k_probs, top_k_indices = torch.topk(next_token_logits, top_k, dim=-1)\n",
        "            probs = F.softmax(top_k_probs, dim=-1)\n",
        "            next_token = torch.multinomial(probs, num_samples=1)\n",
        "\n",
        "            next_token_id = top_k_indices.gather(-1, next_token)\n",
        "\n",
        "        input_ids = torch.cat([input_ids, next_token_id], dim=1)\n",
        "\n",
        "        if next_token_id.item() == tokenizer.convert_tokens_to_ids(\"</s>\"):\n",
        "            break\n",
        "\n",
        "    full_text = tokenizer.decode(input_ids[0], skip_special_tokens=True)\n",
        "    if tokenizer.sep_token in full_text:\n",
        "        response = full_text.split(tokenizer.sep_token)[-1].strip()\n",
        "    else:\n",
        "        response = full_text.strip()\n",
        "\n",
        "    return response\n",
        "\n",
        "\n"
      ],
      "metadata": {
        "id": "SPszF7dt4Rfa"
      },
      "execution_count": 118,
      "outputs": []
    },
    {
      "cell_type": "code",
      "source": [
        "response = generate_response(\"안녕\", tokenizer, model, top_k=20, temperature=0.9)\n",
        "print(\"🤖\", response)\n",
        "\n"
      ],
      "metadata": {
        "colab": {
          "base_uri": "https://localhost:8080/"
        },
        "id": "JuIF9nUG4SL4",
        "outputId": "d7f13771-6454-482d-bd86-d90e821f2305"
      },
      "execution_count": 121,
      "outputs": [
        {
          "output_type": "stream",
          "name": "stdout",
          "text": [
            "🤖 안녕은게게..........고.....??...?..다..는 왜!만게..이?..가게..구?을?이..야게고시는 내가.. 기... 안..하고만이\n"
          ]
        }
      ]
    },
    {
      "cell_type": "markdown",
      "source": [
        "#회고"
      ],
      "metadata": {
        "id": "4bbFygXzIh8c"
      }
    },
    {
      "cell_type": "markdown",
      "source": [
        "* 챗봇이 아니라 스카이넷을 만들어냈다.\n",
        "\n",
        "1.   배운 점 : 챗봇 구조를 직접 실험해보며 알아볼 수 있었다.\n",
        "2.   어려웠던 점 : 전부 다 어려웠다. 토큰화 하는 것부터 어려웠다.\n",
        "\n"
      ],
      "metadata": {
        "id": "0iesmz7oIhIh"
      }
    },
    {
      "cell_type": "code",
      "source": [],
      "metadata": {
        "id": "u9UGN6kiGYoy"
      },
      "execution_count": null,
      "outputs": []
    }
  ]
}